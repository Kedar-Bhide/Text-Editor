{
 "cells": [
  {
   "cell_type": "code",
   "execution_count": 1,
   "metadata": {},
   "outputs": [],
   "source": [
    "import tkinter as tk\n",
    "from tkinter import ttk, filedialog, messagebox\n",
    "import os"
   ]
  },
  {
   "cell_type": "code",
   "execution_count": 2,
   "metadata": {},
   "outputs": [],
   "source": [
    "text_contents = dict()"
   ]
  },
  {
   "cell_type": "code",
   "execution_count": 3,
   "metadata": {},
   "outputs": [],
   "source": [
    "def create_file(content = '', title = 'Untitled'):\n",
    "    \n",
    "    container = ttk.Frame(notebook)\n",
    "    container.pack()\n",
    "    \n",
    "    text_area = tk.Text(container)\n",
    "    text_area.insert('end', content)\n",
    "    text_area.pack(side='left', fill='both', expand=True)\n",
    "\n",
    "    notebook.add(container, text=title)\n",
    "    notebook.select(container)\n",
    "\n",
    "    text_contents[str(text_area)] = hash(content)\n",
    "\n",
    "    text_scroll = ttk.Scrollbar(container, orient='vertical', command=text_area.yview)\n",
    "    text_scroll.pack(side='right', fill='y')\n",
    "    \n",
    "    text_area['yscrollcommand'] = text_scroll.set"
   ]
  },
  {
   "cell_type": "code",
   "execution_count": 4,
   "metadata": {},
   "outputs": [],
   "source": [
    "def check_for_changes():\n",
    "    current = get_text_widget()\n",
    "    content = current.get('1.0', 'end-1c')\n",
    "    name = notebook.tab('current')['text']\n",
    "    \n",
    "    if hash(content) != text_contents[str(current)]:\n",
    "        if name[-1] != '*':\n",
    "            notebook.tab('current', text=name+'*')\n",
    "    elif name[-1] == '*':\n",
    "        notebook.tab('current', text=name[:-1])"
   ]
  },
  {
   "cell_type": "code",
   "execution_count": 5,
   "metadata": {},
   "outputs": [],
   "source": [
    "def get_text_widget():\n",
    "    tab_widget = root.nametowidget(notebook.select())\n",
    "    text_widget = tab_widget.winfo_children()[0]\n",
    "    return text_widget"
   ]
  },
  {
   "cell_type": "code",
   "execution_count": 6,
   "metadata": {},
   "outputs": [],
   "source": [
    "def close_current_tab():\n",
    "    current = get_text_widget()\n",
    "    \n",
    "    if current_tab_unsaved() and not confirm_close():\n",
    "        return\n",
    "      \n",
    "    if len(notebook.tabs()) == 1:\n",
    "        create_file()\n",
    "        \n",
    "    notebook.forget(current)"
   ]
  },
  {
   "cell_type": "code",
   "execution_count": 7,
   "metadata": {},
   "outputs": [],
   "source": [
    "def current_tab_unsaved():\n",
    "    text_widget = get_text_widget()\n",
    "    content = text_widget.get('1.0', 'end-1c')\n",
    "    return hash(content) != text_contents[str(text_widget)]"
   ]
  },
  {
   "cell_type": "code",
   "execution_count": 8,
   "metadata": {},
   "outputs": [],
   "source": [
    "def confirm_close():\n",
    "    return messagebox.askyesno(\n",
    "        message = 'You have unsaved changes. Are you sure you want to close?',\n",
    "        icon='question',\n",
    "        title='Unsaved Changes',)"
   ]
  },
  {
   "cell_type": "code",
   "execution_count": 9,
   "metadata": {},
   "outputs": [],
   "source": [
    "def confirm_quit():\n",
    "    unsaved = False\n",
    "    \n",
    "    for tab in notebook.tabs():\n",
    "        tab_widget = root.nametowidget(tab)\n",
    "        text_widget = tab_widget.winfo_children()[0]\n",
    "        content = text_widget.get('1.0', 'end-1c')\n",
    "        \n",
    "        if hash(content) != text_contents[str(text_widget)]:\n",
    "            unsaved = True\n",
    "            break\n",
    "            \n",
    "    if unsaved and not confirm_close():\n",
    "        return\n",
    "        \n",
    "    root.destroy()"
   ]
  },
  {
   "cell_type": "code",
   "execution_count": 10,
   "metadata": {},
   "outputs": [],
   "source": [
    "def save_file():\n",
    "    file_path = filedialog.asksaveasfilename()\n",
    "    \n",
    "    try:\n",
    "        filename = os.path.basename(file_path)\n",
    "        text_widget = get_text_widget()\n",
    "        content = text_widget.get('1.0', 'end-1c')\n",
    "        \n",
    "        with open(file_path, 'w') as File:\n",
    "            file.write(content)\n",
    "            \n",
    "    except (AttributeError, FileNotFoundError):\n",
    "        print('Save operation failed')\n",
    "        return\n",
    "    \n",
    "    notebook.tab('current', text=filename)\n",
    "    text_content[str(text_widget)] = hash(content)"
   ]
  },
  {
   "cell_type": "code",
   "execution_count": 11,
   "metadata": {},
   "outputs": [],
   "source": [
    "def open_file():\n",
    "    file_path = filedialog.askopenfilename()\n",
    "    \n",
    "    try:\n",
    "        filename = os.path.basename(file_path)\n",
    "        with open(file_path, 'r') as file:\n",
    "            content = file.read()\n",
    "            \n",
    "    except (AttributeError, FileNotFoundError):\n",
    "        print('Open operation failed')\n",
    "        return\n",
    "    \n",
    "    create_file(content, filename)"
   ]
  },
  {
   "cell_type": "code",
   "execution_count": 12,
   "metadata": {},
   "outputs": [],
   "source": [
    "def show_about_info():\n",
    "    messagebox.showinfo(\n",
    "        title='About',\n",
    "        message='The text editor is a single tabled editor.',)"
   ]
  },
  {
   "cell_type": "code",
   "execution_count": 13,
   "metadata": {},
   "outputs": [],
   "source": [
    "root = tk.Tk()\n",
    "\n",
    "root.title('Text Editor')\n",
    "root.option_add('*tearOff', False)\n",
    "\n",
    "main = ttk.Frame(root)\n",
    "main.pack(fill='both', expand=True, pady=(4,0))"
   ]
  },
  {
   "cell_type": "code",
   "execution_count": 14,
   "metadata": {},
   "outputs": [],
   "source": [
    "menubar = tk.Menu()\n",
    "root.config(menu=menubar)\n",
    "\n",
    "file_menu = tk.Menu(menubar)\n",
    "menubar.add_cascade(menu=file_menu, label='File')\n",
    "\n",
    "help_menu = tk.Menu(menubar)\n",
    "menubar.add_cascade(menu=help_menu, label='Help')"
   ]
  },
  {
   "cell_type": "code",
   "execution_count": 15,
   "metadata": {},
   "outputs": [],
   "source": [
    "file_menu.add_command(label='New', command=create_file, accelerator='Ctrl+N')\n",
    "file_menu.add_command(label='Open...', command=open_file, accelerator='Ctrl+O')\n",
    "file_menu.add_command(label='Save', command=save_file, accelerator='Ctrl+S')\n",
    "file_menu.add_command(label='Close Tab', command=close_current_tab, accelerator = 'Ctrl+Q')\n",
    "file_menu.add_command(label='Exit', command=confirm_quit)\n",
    "help_menu.add_command(label='About', command=show_about_info)"
   ]
  },
  {
   "cell_type": "code",
   "execution_count": 16,
   "metadata": {},
   "outputs": [],
   "source": [
    "notebook = ttk.Notebook(main)\n",
    "notebook.pack(fill='both', expand=True)"
   ]
  },
  {
   "cell_type": "code",
   "execution_count": 17,
   "metadata": {},
   "outputs": [],
   "source": [
    "create_file()"
   ]
  },
  {
   "cell_type": "code",
   "execution_count": 18,
   "metadata": {},
   "outputs": [
    {
     "data": {
      "text/plain": [
       "'100914024<lambda>'"
      ]
     },
     "execution_count": 18,
     "metadata": {},
     "output_type": "execute_result"
    }
   ],
   "source": [
    "root.bind('<KeyPress>', lambda event: check_for_changes())\n",
    "root.bind('<Control-n>', lambda event: create_file())\n",
    "root.bind('<Control-o>', lambda event: open_file())\n",
    "root.bind('<Control-q>', lambda event: close_current_tab())\n",
    "root.bind('<Control-s>', lambda event: save_file())"
   ]
  },
  {
   "cell_type": "code",
   "execution_count": 19,
   "metadata": {},
   "outputs": [],
   "source": [
    "root.mainloop()"
   ]
  },
  {
   "cell_type": "code",
   "execution_count": null,
   "metadata": {},
   "outputs": [],
   "source": []
  }
 ],
 "metadata": {
  "kernelspec": {
   "display_name": "Python 3",
   "language": "python",
   "name": "python3"
  },
  "language_info": {
   "codemirror_mode": {
    "name": "ipython",
    "version": 3
   },
   "file_extension": ".py",
   "mimetype": "text/x-python",
   "name": "python",
   "nbconvert_exporter": "python",
   "pygments_lexer": "ipython3",
   "version": "3.8.5"
  }
 },
 "nbformat": 4,
 "nbformat_minor": 4
}
